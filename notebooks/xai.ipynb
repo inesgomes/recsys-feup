{
 "cells": [
  {
   "cell_type": "code",
   "execution_count": 45,
   "metadata": {},
   "outputs": [],
   "source": [
    "import pandas as pd\n",
    "from apyori import apriori\n",
    "\n",
    "# GET DATA\n",
    "model = 'svd'\n",
    "city = 'Philadelphia'\n",
    "k=10\n",
    "\n",
    "preds = pd.read_pickle(f\"../data/clean/predictions_{model}_{city}.pkl\")\n",
    "recs = pd.read_pickle(f\"../data/clean/recommendations_{model}_{city}_top_{k}.pkl\")"
   ]
  },
  {
   "cell_type": "code",
   "execution_count": 46,
   "metadata": {},
   "outputs": [],
   "source": [
    "# create association rules\n",
    "results = pd.DataFrame(list(apriori(recs['recommendations'])))\n",
    "cols = ['items_base', 'items_add', 'confidence', 'lift']\n",
    "df_associations=results.explode('ordered_statistics')\n",
    "\n",
    "df_associations[cols] = pd.DataFrame(\n",
    "    df_associations['ordered_statistics'].to_list(),\n",
    "    columns = cols\n",
    ")\n",
    "df_associations.drop(columns='ordered_statistics', inplace=True)"
   ]
  },
  {
   "cell_type": "code",
   "execution_count": 73,
   "metadata": {},
   "outputs": [],
   "source": [
    "# filter according to rules: min_supp = 0.1, min_conf = 0.1, min_lift = 0.1, max_len= 2\n",
    "df_associations_filter = df_associations[\n",
    "    (df_associations.apply(lambda x: len(x['items_base'])==len(x['items_add']), axis=1)) & \n",
    "    (df_associations['support']>=0.1) &\n",
    "    (df_associations['confidence']>=0.1) &\n",
    "    (df_associations['lift']>=0.1)\n",
    "    ].copy(deep=True)\n",
    "\n",
    "df_associations_filter['X'] = df_associations_filter['items_base'].apply(lambda x: list(x)[0])\n",
    "df_associations_filter['Y'] = df_associations_filter['items_add'].apply(lambda x: list(x)[0])\n",
    "df_associations_filter.drop(columns=['items_base', 'items_add'], inplace=True)"
   ]
  },
  {
   "cell_type": "code",
   "execution_count": 75,
   "metadata": {},
   "outputs": [],
   "source": [
    "# TODO: for each User, List of Y where X in train and Y not in train"
   ]
  },
  {
   "cell_type": "code",
   "execution_count": null,
   "metadata": {},
   "outputs": [],
   "source": []
  }
 ],
 "metadata": {
  "kernelspec": {
   "display_name": "recsys",
   "language": "python",
   "name": "recsys"
  },
  "language_info": {
   "codemirror_mode": {
    "name": "ipython",
    "version": 3
   },
   "file_extension": ".py",
   "mimetype": "text/x-python",
   "name": "python",
   "nbconvert_exporter": "python",
   "pygments_lexer": "ipython3",
   "version": "3.10.9"
  },
  "orig_nbformat": 4
 },
 "nbformat": 4,
 "nbformat_minor": 2
}
