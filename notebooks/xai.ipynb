{
 "cells": [
  {
   "cell_type": "code",
   "execution_count": 2,
   "metadata": {},
   "outputs": [],
   "source": [
    "import pandas as pd\n",
    "from apyori import apriori\n",
    "\n",
    "# GET DATA\n",
    "model = 'svd'\n",
    "city = 'Philadelphia'\n",
    "k=10\n",
    "factor=0.1\n",
    "\n",
    "preds = pd.read_pickle(f\"../data/clean/predictions_{model}_{city}.pkl\")\n",
    "trainset = pd.read_pickle(f\"../data/clean/train.pkl\")"
   ]
  },
  {
   "cell_type": "code",
   "execution_count": 3,
   "metadata": {},
   "outputs": [],
   "source": [
    "# step 1: recs variable\n",
    "recs = pd.read_pickle(f\"../data/clean/recommendations_{model}_{city}_top_{k}.pkl\")\n",
    "\n",
    "# step 2: create association rules\n",
    "results = pd.DataFrame(list(apriori(recs['recommendations'])))\n",
    "cols = ['items_base', 'items_add', 'confidence', 'lift']\n",
    "df_associations=results.explode('ordered_statistics')\n",
    "\n",
    "df_associations[cols] = pd.DataFrame(\n",
    "    df_associations['ordered_statistics'].to_list(),\n",
    "    columns = cols\n",
    ")\n",
    "df_associations.drop(columns='ordered_statistics', inplace=True)\n",
    "\n",
    "# filter according to rules: min_supp = 0.1, min_conf = 0.1, min_lift = 0.1, max_len= 2\n",
    "df_associations_filter = df_associations[\n",
    "    (df_associations.apply(lambda x: len(x['items_base'])==len(x['items_add']), axis=1)) & \n",
    "    (df_associations['support']>=0.1) &\n",
    "    (df_associations['confidence']>=0.1) &\n",
    "    (df_associations['lift']>=0.1)\n",
    "    ].copy(deep=True).drop_duplicates()\n",
    "\n",
    "df_associations_filter['X'] = df_associations_filter['items_base'].apply(lambda x: list(x)[0])\n",
    "df_associations_filter['Y'] = df_associations_filter['items_add'].apply(lambda x: list(x)[0])\n",
    "df_associations_filter.drop(columns=['items_base', 'items_add', 'items'], inplace=True)"
   ]
  },
  {
   "cell_type": "code",
   "execution_count": 4,
   "metadata": {},
   "outputs": [],
   "source": [
    "final_recs = recs.drop(columns=['actual']).explode('recommendations')\n",
    "rec_interpretations = pd.DataFrame()\n",
    "# step 3: for each user\n",
    "for uid, rec_u in final_recs.groupby('user_id'):\n",
    "    # step 4: compute the list {unseen} of items Y where X ⇒ Y if X ∈ {train} and Y not {train}\n",
    "    # step 5: order unseen by supp/conf/lift\n",
    "    iid_user = trainset[trainset['uid'] == uid]['iid'].drop_duplicates()\n",
    "    assoc_user = df_associations_filter[(df_associations_filter['X'].isin(iid_user)) & \n",
    "                                        (~df_associations_filter['Y'].isin(iid_user))]\\\n",
    "                                            .drop_duplicates()\\\n",
    "                                                .sort_values(by=['support', 'confidence', 'lift'], ascending=False)\n",
    "\n",
    "    \n",
    "    # step 6: merge with recommendations\n",
    "    recs_assoc_u = pd.merge(rec_u, assoc_user[['X', 'Y']], left_on='recommendations', right_on='Y', how='left')\n",
    "    rec_interpretations = pd.concat([rec_interpretations, recs_assoc_u])"
   ]
  },
  {
   "cell_type": "code",
   "execution_count": 9,
   "metadata": {},
   "outputs": [
    {
     "data": {
      "text/plain": [
       "0.992825459200381"
      ]
     },
     "execution_count": 9,
     "metadata": {},
     "output_type": "execute_result"
    }
   ],
   "source": [
    "# % of interpretations: \n",
    "rec_interpretations.dropna().shape[0]*100/rec_interpretations.shape[0]"
   ]
  },
  {
   "cell_type": "code",
   "execution_count": null,
   "metadata": {},
   "outputs": [],
   "source": []
  }
 ],
 "metadata": {
  "kernelspec": {
   "display_name": "recsys",
   "language": "python",
   "name": "recsys"
  },
  "language_info": {
   "codemirror_mode": {
    "name": "ipython",
    "version": 3
   },
   "file_extension": ".py",
   "mimetype": "text/x-python",
   "name": "python",
   "nbconvert_exporter": "python",
   "pygments_lexer": "ipython3",
   "version": "3.10.9"
  },
  "orig_nbformat": 4
 },
 "nbformat": 4,
 "nbformat_minor": 2
}
