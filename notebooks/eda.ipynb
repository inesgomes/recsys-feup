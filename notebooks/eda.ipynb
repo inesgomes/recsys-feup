{
 "cells": [
  {
   "cell_type": "code",
   "execution_count": 1,
   "metadata": {},
   "outputs": [],
   "source": [
    "import pandas as pd"
   ]
  },
  {
   "attachments": {},
   "cell_type": "markdown",
   "metadata": {},
   "source": [
    "# Data\n",
    "\n",
    "https://www.yelp.com/dataset/documentation/main"
   ]
  },
  {
   "attachments": {},
   "cell_type": "markdown",
   "metadata": {},
   "source": [
    "# V1\n",
    "\n",
    "Will start with reviews only, so that we can build an user-item matrix.\n",
    "\n",
    "## Data Wrangling\n",
    "\n",
    "- select only open restaurants\n",
    "- merge reviews with open business (city and state)\n",
    "- select a state/city with a relevant number of reviews"
   ]
  },
  {
   "cell_type": "code",
   "execution_count": 26,
   "metadata": {},
   "outputs": [],
   "source": [
    "# with this info, we can sample the data\n",
    "df_business = pd.read_json('../data/external/yelp_dataset/yelp_academic_dataset_business.json',lines=True)\n",
    "# select only open business\n",
    "cols = [\"business_id\", \"city\", \"state\"]\n",
    "df_clean_business = df_business[df_business['is_open']==1][cols]"
   ]
  },
  {
   "cell_type": "code",
   "execution_count": 19,
   "metadata": {},
   "outputs": [],
   "source": [
    "# load reviews\n",
    "review = pd.read_json('../data/external/yelp_dataset/yelp_academic_dataset_review.json', lines=True, chunksize=1000000)\n",
    "\n",
    "# There are multiple chunks to be read\n",
    "chunk_list = []\n",
    "for chunk_review in review:\n",
    "    # Drop columns that aren't needed\n",
    "    chunk_review = chunk_review.drop(['review_id','useful','funny','cool', 'text'], axis=1)\n",
    "    # Renaming column name to avoid conflict with business overall star rating\n",
    "    chunk_review = chunk_review.rename(columns={'stars': 'review_stars'})\n",
    "    # Inner merge with edited business file so only reviews related to the business remain\n",
    "    chunk_merged = pd.merge(df_clean_business, chunk_review, on='business_id', how='inner')\n",
    "    chunk_list.append(chunk_merged)\n",
    "    break\n",
    "# After trimming down the review file, concatenate all relevant data back to one dataframe\n",
    "df = pd.concat(chunk_list, ignore_index=True, join='outer', axis=0)\n",
    "\n",
    "# if multiple reviews from the same user to a given business, select only the most recent\n",
    "df = df.sort_values(by=\"date\").drop_duplicates(subset=['business_id', 'user_id'], keep='last').drop(columns='date')"
   ]
  },
  {
   "cell_type": "code",
   "execution_count": 23,
   "metadata": {},
   "outputs": [
    {
     "data": {
      "text/plain": [
       "PA    178139\n",
       "FL    125503\n",
       "LA     99019\n",
       "TN     70519\n",
       "MO     60949\n",
       "IN     56071\n",
       "NV     46098\n",
       "AZ     45967\n",
       "CA     38037\n",
       "NJ     29689\n",
       "ID     15586\n",
       "AB     12507\n",
       "DE      6594\n",
       "IL      5846\n",
       "HI        17\n",
       "WA         6\n",
       "Name: state, dtype: int64"
      ]
     },
     "execution_count": 23,
     "metadata": {},
     "output_type": "execute_result"
    }
   ],
   "source": [
    "df.state.value_counts()"
   ]
  },
  {
   "cell_type": "code",
   "execution_count": 24,
   "metadata": {},
   "outputs": [],
   "source": [
    "# sampling NJ to have some reviews but not too many\n",
    "df_nj = df[df.state=='NJ'].drop(columns=['state', 'city'])"
   ]
  },
  {
   "cell_type": "code",
   "execution_count": 25,
   "metadata": {},
   "outputs": [
    {
     "data": {
      "text/html": [
       "<div>\n",
       "<style scoped>\n",
       "    .dataframe tbody tr th:only-of-type {\n",
       "        vertical-align: middle;\n",
       "    }\n",
       "\n",
       "    .dataframe tbody tr th {\n",
       "        vertical-align: top;\n",
       "    }\n",
       "\n",
       "    .dataframe thead th {\n",
       "        text-align: right;\n",
       "    }\n",
       "</style>\n",
       "<table border=\"1\" class=\"dataframe\">\n",
       "  <thead>\n",
       "    <tr style=\"text-align: right;\">\n",
       "      <th></th>\n",
       "      <th>business_id</th>\n",
       "      <th>user_id</th>\n",
       "      <th>review_stars</th>\n",
       "    </tr>\n",
       "  </thead>\n",
       "  <tbody>\n",
       "    <tr>\n",
       "      <th>293835</th>\n",
       "      <td>8yXzNnRUzZ0r-947fpZL7A</td>\n",
       "      <td>PJYDtMQBKNGVbZ2m5L3ITQ</td>\n",
       "      <td>5</td>\n",
       "    </tr>\n",
       "    <tr>\n",
       "      <th>605353</th>\n",
       "      <td>NebCGmQMd058CRT-xs13tQ</td>\n",
       "      <td>hv0gqAwHKFNBrqqImuk1Iw</td>\n",
       "      <td>3</td>\n",
       "    </tr>\n",
       "    <tr>\n",
       "      <th>797422</th>\n",
       "      <td>G2_1Q5TnESlgdQDufHtqIw</td>\n",
       "      <td>3v-uRcbXNmO6IC99olzOrg</td>\n",
       "      <td>5</td>\n",
       "    </tr>\n",
       "  </tbody>\n",
       "</table>\n",
       "</div>"
      ],
      "text/plain": [
       "                   business_id                 user_id  review_stars\n",
       "293835  8yXzNnRUzZ0r-947fpZL7A  PJYDtMQBKNGVbZ2m5L3ITQ             5\n",
       "605353  NebCGmQMd058CRT-xs13tQ  hv0gqAwHKFNBrqqImuk1Iw             3\n",
       "797422  G2_1Q5TnESlgdQDufHtqIw  3v-uRcbXNmO6IC99olzOrg             5"
      ]
     },
     "execution_count": 25,
     "metadata": {},
     "output_type": "execute_result"
    }
   ],
   "source": [
    "df_nj.sample(3)"
   ]
  },
  {
   "attachments": {},
   "cell_type": "markdown",
   "metadata": {},
   "source": [
    "## Recsys Methods\n",
    "\n",
    "- popularity: top restaurants with highest score\n",
    "- TODO\n",
    "\n",
    "Check:\n",
    "- https://towardsdatascience.com/how-i-implemented-explainable-movie-recommendations-using-python-7aa42a0af023 \n",
    "- https://towardsdatascience.com/yelp-restaurant-recommendation-system-capstone-project-264fe7a7dea1"
   ]
  },
  {
   "cell_type": "code",
   "execution_count": null,
   "metadata": {},
   "outputs": [],
   "source": []
  }
 ],
 "metadata": {
  "kernelspec": {
   "display_name": "recsys",
   "language": "python",
   "name": "recsys"
  },
  "language_info": {
   "codemirror_mode": {
    "name": "ipython",
    "version": 3
   },
   "file_extension": ".py",
   "mimetype": "text/x-python",
   "name": "python",
   "nbconvert_exporter": "python",
   "pygments_lexer": "ipython3",
   "version": "3.10.9"
  },
  "vscode": {
   "interpreter": {
    "hash": "e5dedc761c654fe0a26ae88f4f5e7650203c66bdba7edd18b0cf3d3f36ecf555"
   }
  }
 },
 "nbformat": 4,
 "nbformat_minor": 2
}
